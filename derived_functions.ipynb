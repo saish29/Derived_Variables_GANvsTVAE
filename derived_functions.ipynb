{
 "cells": [
  {
   "cell_type": "markdown",
   "metadata": {},
   "source": [
    "## Loading the Dataset"
   ]
  },
  {
   "cell_type": "code",
   "execution_count": 1,
   "metadata": {},
   "outputs": [],
   "source": [
    "import pyreadr as p\n",
    "import pandas as pd\n",
    "import numpy as np"
   ]
  },
  {
   "cell_type": "code",
   "execution_count": 2,
   "metadata": {},
   "outputs": [],
   "source": [
    "data = p.read_r(\"HLKD_dataset_2.0.rds\")\n",
    "\n",
    "data = data[None]"
   ]
  },
  {
   "cell_type": "code",
   "execution_count": 3,
   "metadata": {},
   "outputs": [
    {
     "data": {
      "text/html": [
       "<div>\n",
       "<style scoped>\n",
       "    .dataframe tbody tr th:only-of-type {\n",
       "        vertical-align: middle;\n",
       "    }\n",
       "\n",
       "    .dataframe tbody tr th {\n",
       "        vertical-align: top;\n",
       "    }\n",
       "\n",
       "    .dataframe thead th {\n",
       "        text-align: right;\n",
       "    }\n",
       "</style>\n",
       "<table border=\"1\" class=\"dataframe\">\n",
       "  <thead>\n",
       "    <tr style=\"text-align: right;\">\n",
       "      <th></th>\n",
       "      <th>SEQN</th>\n",
       "      <th>RIAGENDR</th>\n",
       "      <th>RIDAGEYR</th>\n",
       "      <th>RIDRETH1</th>\n",
       "      <th>RIDRETH3</th>\n",
       "      <th>WTINT2YR</th>\n",
       "      <th>WTMEC2YR</th>\n",
       "      <th>DR1TKCAL</th>\n",
       "      <th>DR2TKCAL</th>\n",
       "      <th>DR1TTFAT</th>\n",
       "      <th>...</th>\n",
       "      <th>DRTTFAT_AVG</th>\n",
       "      <th>BSA</th>\n",
       "      <th>RVALUE</th>\n",
       "      <th>EGFR</th>\n",
       "      <th>EGFRxBSA</th>\n",
       "      <th>URDFLOW_AVG</th>\n",
       "      <th>HEPB_sAgNew</th>\n",
       "      <th>HEPC_New</th>\n",
       "      <th>HOMA_IR</th>\n",
       "      <th>HOMA_BETA</th>\n",
       "    </tr>\n",
       "  </thead>\n",
       "  <tbody>\n",
       "    <tr>\n",
       "      <th>0</th>\n",
       "      <td>62161.0</td>\n",
       "      <td>1.0</td>\n",
       "      <td>22.0</td>\n",
       "      <td>3.0</td>\n",
       "      <td>3.0</td>\n",
       "      <td>102641.406474</td>\n",
       "      <td>104236.582554</td>\n",
       "      <td>2969.0</td>\n",
       "      <td>3567.0</td>\n",
       "      <td>123.81</td>\n",
       "      <td>...</td>\n",
       "      <td>135.940</td>\n",
       "      <td>1.818521</td>\n",
       "      <td>0.806819</td>\n",
       "      <td>122.210218</td>\n",
       "      <td>222.241806</td>\n",
       "      <td>0.495</td>\n",
       "      <td>2</td>\n",
       "      <td>NaN</td>\n",
       "      <td>4.236543</td>\n",
       "      <td>231.517241</td>\n",
       "    </tr>\n",
       "    <tr>\n",
       "      <th>1</th>\n",
       "      <td>62164.0</td>\n",
       "      <td>2.0</td>\n",
       "      <td>44.0</td>\n",
       "      <td>3.0</td>\n",
       "      <td>3.0</td>\n",
       "      <td>127351.373299</td>\n",
       "      <td>127965.226204</td>\n",
       "      <td>1115.0</td>\n",
       "      <td>2372.0</td>\n",
       "      <td>51.54</td>\n",
       "      <td>...</td>\n",
       "      <td>40.130</td>\n",
       "      <td>1.779340</td>\n",
       "      <td>5.565020</td>\n",
       "      <td>81.935888</td>\n",
       "      <td>145.791786</td>\n",
       "      <td>0.569</td>\n",
       "      <td>2</td>\n",
       "      <td>NaN</td>\n",
       "      <td>0.710667</td>\n",
       "      <td>66.505263</td>\n",
       "    </tr>\n",
       "    <tr>\n",
       "      <th>2</th>\n",
       "      <td>62169.0</td>\n",
       "      <td>1.0</td>\n",
       "      <td>21.0</td>\n",
       "      <td>5.0</td>\n",
       "      <td>6.0</td>\n",
       "      <td>14391.778470</td>\n",
       "      <td>14783.600953</td>\n",
       "      <td>1831.0</td>\n",
       "      <td>2851.0</td>\n",
       "      <td>34.61</td>\n",
       "      <td>...</td>\n",
       "      <td>69.170</td>\n",
       "      <td>1.592088</td>\n",
       "      <td>1.224273</td>\n",
       "      <td>125.896486</td>\n",
       "      <td>200.438332</td>\n",
       "      <td>0.612</td>\n",
       "      <td>2</td>\n",
       "      <td>NaN</td>\n",
       "      <td>2.546864</td>\n",
       "      <td>78.872727</td>\n",
       "    </tr>\n",
       "    <tr>\n",
       "      <th>3</th>\n",
       "      <td>62172.0</td>\n",
       "      <td>2.0</td>\n",
       "      <td>43.0</td>\n",
       "      <td>4.0</td>\n",
       "      <td>4.0</td>\n",
       "      <td>26960.774346</td>\n",
       "      <td>27122.911908</td>\n",
       "      <td>1845.0</td>\n",
       "      <td>1506.0</td>\n",
       "      <td>42.02</td>\n",
       "      <td>...</td>\n",
       "      <td>38.695</td>\n",
       "      <td>2.111165</td>\n",
       "      <td>1.544050</td>\n",
       "      <td>110.754023</td>\n",
       "      <td>233.819995</td>\n",
       "      <td>0.645</td>\n",
       "      <td>2</td>\n",
       "      <td>NaN</td>\n",
       "      <td>4.781432</td>\n",
       "      <td>163.492683</td>\n",
       "    </tr>\n",
       "    <tr>\n",
       "      <th>4</th>\n",
       "      <td>62174.0</td>\n",
       "      <td>1.0</td>\n",
       "      <td>80.0</td>\n",
       "      <td>3.0</td>\n",
       "      <td>3.0</td>\n",
       "      <td>24912.668432</td>\n",
       "      <td>27335.895242</td>\n",
       "      <td>1178.0</td>\n",
       "      <td>1553.0</td>\n",
       "      <td>49.75</td>\n",
       "      <td>...</td>\n",
       "      <td>47.320</td>\n",
       "      <td>2.051083</td>\n",
       "      <td>0.944828</td>\n",
       "      <td>87.227648</td>\n",
       "      <td>178.911154</td>\n",
       "      <td>1.160</td>\n",
       "      <td>2</td>\n",
       "      <td>NaN</td>\n",
       "      <td>NaN</td>\n",
       "      <td>NaN</td>\n",
       "    </tr>\n",
       "  </tbody>\n",
       "</table>\n",
       "<p>5 rows × 82 columns</p>\n",
       "</div>"
      ],
      "text/plain": [
       "      SEQN  RIAGENDR  RIDAGEYR  RIDRETH1  RIDRETH3       WTINT2YR   \n",
       "0  62161.0       1.0      22.0       3.0       3.0  102641.406474  \\\n",
       "1  62164.0       2.0      44.0       3.0       3.0  127351.373299   \n",
       "2  62169.0       1.0      21.0       5.0       6.0   14391.778470   \n",
       "3  62172.0       2.0      43.0       4.0       4.0   26960.774346   \n",
       "4  62174.0       1.0      80.0       3.0       3.0   24912.668432   \n",
       "\n",
       "        WTMEC2YR  DR1TKCAL  DR2TKCAL  DR1TTFAT  ...  DRTTFAT_AVG       BSA   \n",
       "0  104236.582554    2969.0    3567.0    123.81  ...      135.940  1.818521  \\\n",
       "1  127965.226204    1115.0    2372.0     51.54  ...       40.130  1.779340   \n",
       "2   14783.600953    1831.0    2851.0     34.61  ...       69.170  1.592088   \n",
       "3   27122.911908    1845.0    1506.0     42.02  ...       38.695  2.111165   \n",
       "4   27335.895242    1178.0    1553.0     49.75  ...       47.320  2.051083   \n",
       "\n",
       "     RVALUE        EGFR    EGFRxBSA  URDFLOW_AVG  HEPB_sAgNew  HEPC_New   \n",
       "0  0.806819  122.210218  222.241806        0.495            2       NaN  \\\n",
       "1  5.565020   81.935888  145.791786        0.569            2       NaN   \n",
       "2  1.224273  125.896486  200.438332        0.612            2       NaN   \n",
       "3  1.544050  110.754023  233.819995        0.645            2       NaN   \n",
       "4  0.944828   87.227648  178.911154        1.160            2       NaN   \n",
       "\n",
       "    HOMA_IR   HOMA_BETA  \n",
       "0  4.236543  231.517241  \n",
       "1  0.710667   66.505263  \n",
       "2  2.546864   78.872727  \n",
       "3  4.781432  163.492683  \n",
       "4       NaN         NaN  \n",
       "\n",
       "[5 rows x 82 columns]"
      ]
     },
     "execution_count": 3,
     "metadata": {},
     "output_type": "execute_result"
    }
   ],
   "source": [
    "data.head()"
   ]
  },
  {
   "cell_type": "code",
   "execution_count": 4,
   "metadata": {},
   "outputs": [],
   "source": [
    "def diabetes_types(row):\n",
    "    diabetes = row['DIQ010']\n",
    "    prediabetes = row['DIQ160']\n",
    "    insulin = row['DIQ050']\n",
    "    \n",
    "    if (diabetes == 1 and insulin == 1) or (prediabetes == 1 and insulin == 1):\n",
    "        return \"DiabeteswithInsulin\"\n",
    "    elif prediabetes == 1 and pd.isna(insulin):\n",
    "        return \"PreDiabetes\"\n",
    "    elif prediabetes == 1 and insulin == 2:\n",
    "        return \"PreDiabetes\"\n",
    "    elif diabetes == 1 and insulin == 2:\n",
    "        return \"DiabetesNoInsulin\"\n",
    "    elif diabetes == 2 and prediabetes == 2:\n",
    "        return \"None\"\n",
    "    elif diabetes == 2 and pd.isna(prediabetes):\n",
    "        return \"None\"\n",
    "    elif prediabetes == 2 and pd.isna(diabetes):\n",
    "        return \"None\"\n",
    "    elif prediabetes == 1 and ((pd.isna(diabetes) or diabetes == 2) and (pd.isna(insulin) or insulin == 2)):\n",
    "        return \"Prediabetes\"\n",
    "    else:\n",
    "        return np.nan\n",
    "\n",
    "# Apply the function to each row and create a new column 'DiseaseType'\n",
    "data['DiabetesType'] = data.apply(diabetes_types, axis=1)\n"
   ]
  },
  {
   "cell_type": "code",
   "execution_count": 5,
   "metadata": {},
   "outputs": [
    {
     "data": {
      "text/html": [
       "<div>\n",
       "<style scoped>\n",
       "    .dataframe tbody tr th:only-of-type {\n",
       "        vertical-align: middle;\n",
       "    }\n",
       "\n",
       "    .dataframe tbody tr th {\n",
       "        vertical-align: top;\n",
       "    }\n",
       "\n",
       "    .dataframe thead th {\n",
       "        text-align: right;\n",
       "    }\n",
       "</style>\n",
       "<table border=\"1\" class=\"dataframe\">\n",
       "  <thead>\n",
       "    <tr style=\"text-align: right;\">\n",
       "      <th></th>\n",
       "      <th>SEQN</th>\n",
       "      <th>RIAGENDR</th>\n",
       "      <th>RIDAGEYR</th>\n",
       "      <th>RIDRETH1</th>\n",
       "      <th>RIDRETH3</th>\n",
       "      <th>WTINT2YR</th>\n",
       "      <th>WTMEC2YR</th>\n",
       "      <th>DR1TKCAL</th>\n",
       "      <th>DR2TKCAL</th>\n",
       "      <th>DR1TTFAT</th>\n",
       "      <th>...</th>\n",
       "      <th>BSA</th>\n",
       "      <th>RVALUE</th>\n",
       "      <th>EGFR</th>\n",
       "      <th>EGFRxBSA</th>\n",
       "      <th>URDFLOW_AVG</th>\n",
       "      <th>HEPB_sAgNew</th>\n",
       "      <th>HEPC_New</th>\n",
       "      <th>HOMA_IR</th>\n",
       "      <th>HOMA_BETA</th>\n",
       "      <th>DiabetesType</th>\n",
       "    </tr>\n",
       "  </thead>\n",
       "  <tbody>\n",
       "    <tr>\n",
       "      <th>0</th>\n",
       "      <td>62161.0</td>\n",
       "      <td>1.0</td>\n",
       "      <td>22.0</td>\n",
       "      <td>3.0</td>\n",
       "      <td>3.0</td>\n",
       "      <td>102641.406474</td>\n",
       "      <td>104236.582554</td>\n",
       "      <td>2969.0</td>\n",
       "      <td>3567.0</td>\n",
       "      <td>123.81</td>\n",
       "      <td>...</td>\n",
       "      <td>1.818521</td>\n",
       "      <td>0.806819</td>\n",
       "      <td>122.210218</td>\n",
       "      <td>222.241806</td>\n",
       "      <td>0.495</td>\n",
       "      <td>2</td>\n",
       "      <td>NaN</td>\n",
       "      <td>4.236543</td>\n",
       "      <td>231.517241</td>\n",
       "      <td>None</td>\n",
       "    </tr>\n",
       "    <tr>\n",
       "      <th>1</th>\n",
       "      <td>62164.0</td>\n",
       "      <td>2.0</td>\n",
       "      <td>44.0</td>\n",
       "      <td>3.0</td>\n",
       "      <td>3.0</td>\n",
       "      <td>127351.373299</td>\n",
       "      <td>127965.226204</td>\n",
       "      <td>1115.0</td>\n",
       "      <td>2372.0</td>\n",
       "      <td>51.54</td>\n",
       "      <td>...</td>\n",
       "      <td>1.779340</td>\n",
       "      <td>5.565020</td>\n",
       "      <td>81.935888</td>\n",
       "      <td>145.791786</td>\n",
       "      <td>0.569</td>\n",
       "      <td>2</td>\n",
       "      <td>NaN</td>\n",
       "      <td>0.710667</td>\n",
       "      <td>66.505263</td>\n",
       "      <td>None</td>\n",
       "    </tr>\n",
       "    <tr>\n",
       "      <th>2</th>\n",
       "      <td>62169.0</td>\n",
       "      <td>1.0</td>\n",
       "      <td>21.0</td>\n",
       "      <td>5.0</td>\n",
       "      <td>6.0</td>\n",
       "      <td>14391.778470</td>\n",
       "      <td>14783.600953</td>\n",
       "      <td>1831.0</td>\n",
       "      <td>2851.0</td>\n",
       "      <td>34.61</td>\n",
       "      <td>...</td>\n",
       "      <td>1.592088</td>\n",
       "      <td>1.224273</td>\n",
       "      <td>125.896486</td>\n",
       "      <td>200.438332</td>\n",
       "      <td>0.612</td>\n",
       "      <td>2</td>\n",
       "      <td>NaN</td>\n",
       "      <td>2.546864</td>\n",
       "      <td>78.872727</td>\n",
       "      <td>None</td>\n",
       "    </tr>\n",
       "    <tr>\n",
       "      <th>3</th>\n",
       "      <td>62172.0</td>\n",
       "      <td>2.0</td>\n",
       "      <td>43.0</td>\n",
       "      <td>4.0</td>\n",
       "      <td>4.0</td>\n",
       "      <td>26960.774346</td>\n",
       "      <td>27122.911908</td>\n",
       "      <td>1845.0</td>\n",
       "      <td>1506.0</td>\n",
       "      <td>42.02</td>\n",
       "      <td>...</td>\n",
       "      <td>2.111165</td>\n",
       "      <td>1.544050</td>\n",
       "      <td>110.754023</td>\n",
       "      <td>233.819995</td>\n",
       "      <td>0.645</td>\n",
       "      <td>2</td>\n",
       "      <td>NaN</td>\n",
       "      <td>4.781432</td>\n",
       "      <td>163.492683</td>\n",
       "      <td>None</td>\n",
       "    </tr>\n",
       "    <tr>\n",
       "      <th>4</th>\n",
       "      <td>62174.0</td>\n",
       "      <td>1.0</td>\n",
       "      <td>80.0</td>\n",
       "      <td>3.0</td>\n",
       "      <td>3.0</td>\n",
       "      <td>24912.668432</td>\n",
       "      <td>27335.895242</td>\n",
       "      <td>1178.0</td>\n",
       "      <td>1553.0</td>\n",
       "      <td>49.75</td>\n",
       "      <td>...</td>\n",
       "      <td>2.051083</td>\n",
       "      <td>0.944828</td>\n",
       "      <td>87.227648</td>\n",
       "      <td>178.911154</td>\n",
       "      <td>1.160</td>\n",
       "      <td>2</td>\n",
       "      <td>NaN</td>\n",
       "      <td>NaN</td>\n",
       "      <td>NaN</td>\n",
       "      <td>None</td>\n",
       "    </tr>\n",
       "    <tr>\n",
       "      <th>...</th>\n",
       "      <td>...</td>\n",
       "      <td>...</td>\n",
       "      <td>...</td>\n",
       "      <td>...</td>\n",
       "      <td>...</td>\n",
       "      <td>...</td>\n",
       "      <td>...</td>\n",
       "      <td>...</td>\n",
       "      <td>...</td>\n",
       "      <td>...</td>\n",
       "      <td>...</td>\n",
       "      <td>...</td>\n",
       "      <td>...</td>\n",
       "      <td>...</td>\n",
       "      <td>...</td>\n",
       "      <td>...</td>\n",
       "      <td>...</td>\n",
       "      <td>...</td>\n",
       "      <td>...</td>\n",
       "      <td>...</td>\n",
       "      <td>...</td>\n",
       "    </tr>\n",
       "    <tr>\n",
       "      <th>23820</th>\n",
       "      <td>102950.0</td>\n",
       "      <td>1.0</td>\n",
       "      <td>64.0</td>\n",
       "      <td>4.0</td>\n",
       "      <td>4.0</td>\n",
       "      <td>11804.993503</td>\n",
       "      <td>0.000000</td>\n",
       "      <td>NaN</td>\n",
       "      <td>NaN</td>\n",
       "      <td>NaN</td>\n",
       "      <td>...</td>\n",
       "      <td>NaN</td>\n",
       "      <td>NaN</td>\n",
       "      <td>NaN</td>\n",
       "      <td>NaN</td>\n",
       "      <td>NaN</td>\n",
       "      <td>NaN</td>\n",
       "      <td>NaN</td>\n",
       "      <td>NaN</td>\n",
       "      <td>NaN</td>\n",
       "      <td>PreDiabetes</td>\n",
       "    </tr>\n",
       "    <tr>\n",
       "      <th>23821</th>\n",
       "      <td>102952.0</td>\n",
       "      <td>2.0</td>\n",
       "      <td>70.0</td>\n",
       "      <td>5.0</td>\n",
       "      <td>6.0</td>\n",
       "      <td>16896.276203</td>\n",
       "      <td>18338.711104</td>\n",
       "      <td>1080.0</td>\n",
       "      <td>1054.0</td>\n",
       "      <td>38.68</td>\n",
       "      <td>...</td>\n",
       "      <td>1.464612</td>\n",
       "      <td>1.645614</td>\n",
       "      <td>92.981881</td>\n",
       "      <td>136.182368</td>\n",
       "      <td>0.525</td>\n",
       "      <td>2</td>\n",
       "      <td>2</td>\n",
       "      <td>1.712642</td>\n",
       "      <td>16.635789</td>\n",
       "      <td>NaN</td>\n",
       "    </tr>\n",
       "    <tr>\n",
       "      <th>23822</th>\n",
       "      <td>102953.0</td>\n",
       "      <td>1.0</td>\n",
       "      <td>42.0</td>\n",
       "      <td>1.0</td>\n",
       "      <td>1.0</td>\n",
       "      <td>61630.380013</td>\n",
       "      <td>63661.951573</td>\n",
       "      <td>3072.0</td>\n",
       "      <td>NaN</td>\n",
       "      <td>114.96</td>\n",
       "      <td>...</td>\n",
       "      <td>2.036990</td>\n",
       "      <td>1.484858</td>\n",
       "      <td>106.510309</td>\n",
       "      <td>216.960413</td>\n",
       "      <td>0.529</td>\n",
       "      <td>2</td>\n",
       "      <td>2</td>\n",
       "      <td>NaN</td>\n",
       "      <td>NaN</td>\n",
       "      <td>PreDiabetes</td>\n",
       "    </tr>\n",
       "    <tr>\n",
       "      <th>23823</th>\n",
       "      <td>102954.0</td>\n",
       "      <td>2.0</td>\n",
       "      <td>41.0</td>\n",
       "      <td>4.0</td>\n",
       "      <td>4.0</td>\n",
       "      <td>17160.895269</td>\n",
       "      <td>17694.783346</td>\n",
       "      <td>1757.0</td>\n",
       "      <td>1835.0</td>\n",
       "      <td>66.58</td>\n",
       "      <td>...</td>\n",
       "      <td>1.742637</td>\n",
       "      <td>0.544959</td>\n",
       "      <td>111.746400</td>\n",
       "      <td>194.733392</td>\n",
       "      <td>1.039</td>\n",
       "      <td>2</td>\n",
       "      <td>2</td>\n",
       "      <td>2.202617</td>\n",
       "      <td>110.206452</td>\n",
       "      <td>None</td>\n",
       "    </tr>\n",
       "    <tr>\n",
       "      <th>23824</th>\n",
       "      <td>102956.0</td>\n",
       "      <td>1.0</td>\n",
       "      <td>38.0</td>\n",
       "      <td>3.0</td>\n",
       "      <td>3.0</td>\n",
       "      <td>38645.740291</td>\n",
       "      <td>39426.299948</td>\n",
       "      <td>1591.0</td>\n",
       "      <td>1490.0</td>\n",
       "      <td>40.59</td>\n",
       "      <td>...</td>\n",
       "      <td>2.259940</td>\n",
       "      <td>2.114614</td>\n",
       "      <td>115.308019</td>\n",
       "      <td>260.589153</td>\n",
       "      <td>4.079</td>\n",
       "      <td>2</td>\n",
       "      <td>2</td>\n",
       "      <td>23.756617</td>\n",
       "      <td>1359.385714</td>\n",
       "      <td>None</td>\n",
       "    </tr>\n",
       "  </tbody>\n",
       "</table>\n",
       "<p>23825 rows × 83 columns</p>\n",
       "</div>"
      ],
      "text/plain": [
       "           SEQN  RIAGENDR  RIDAGEYR  RIDRETH1  RIDRETH3       WTINT2YR   \n",
       "0       62161.0       1.0      22.0       3.0       3.0  102641.406474  \\\n",
       "1       62164.0       2.0      44.0       3.0       3.0  127351.373299   \n",
       "2       62169.0       1.0      21.0       5.0       6.0   14391.778470   \n",
       "3       62172.0       2.0      43.0       4.0       4.0   26960.774346   \n",
       "4       62174.0       1.0      80.0       3.0       3.0   24912.668432   \n",
       "...         ...       ...       ...       ...       ...            ...   \n",
       "23820  102950.0       1.0      64.0       4.0       4.0   11804.993503   \n",
       "23821  102952.0       2.0      70.0       5.0       6.0   16896.276203   \n",
       "23822  102953.0       1.0      42.0       1.0       1.0   61630.380013   \n",
       "23823  102954.0       2.0      41.0       4.0       4.0   17160.895269   \n",
       "23824  102956.0       1.0      38.0       3.0       3.0   38645.740291   \n",
       "\n",
       "            WTMEC2YR  DR1TKCAL  DR2TKCAL  DR1TTFAT  ...       BSA    RVALUE   \n",
       "0      104236.582554    2969.0    3567.0    123.81  ...  1.818521  0.806819  \\\n",
       "1      127965.226204    1115.0    2372.0     51.54  ...  1.779340  5.565020   \n",
       "2       14783.600953    1831.0    2851.0     34.61  ...  1.592088  1.224273   \n",
       "3       27122.911908    1845.0    1506.0     42.02  ...  2.111165  1.544050   \n",
       "4       27335.895242    1178.0    1553.0     49.75  ...  2.051083  0.944828   \n",
       "...              ...       ...       ...       ...  ...       ...       ...   \n",
       "23820       0.000000       NaN       NaN       NaN  ...       NaN       NaN   \n",
       "23821   18338.711104    1080.0    1054.0     38.68  ...  1.464612  1.645614   \n",
       "23822   63661.951573    3072.0       NaN    114.96  ...  2.036990  1.484858   \n",
       "23823   17694.783346    1757.0    1835.0     66.58  ...  1.742637  0.544959   \n",
       "23824   39426.299948    1591.0    1490.0     40.59  ...  2.259940  2.114614   \n",
       "\n",
       "             EGFR    EGFRxBSA  URDFLOW_AVG  HEPB_sAgNew  HEPC_New    HOMA_IR   \n",
       "0      122.210218  222.241806        0.495            2       NaN   4.236543  \\\n",
       "1       81.935888  145.791786        0.569            2       NaN   0.710667   \n",
       "2      125.896486  200.438332        0.612            2       NaN   2.546864   \n",
       "3      110.754023  233.819995        0.645            2       NaN   4.781432   \n",
       "4       87.227648  178.911154        1.160            2       NaN        NaN   \n",
       "...           ...         ...          ...          ...       ...        ...   \n",
       "23820         NaN         NaN          NaN          NaN       NaN        NaN   \n",
       "23821   92.981881  136.182368        0.525            2         2   1.712642   \n",
       "23822  106.510309  216.960413        0.529            2         2        NaN   \n",
       "23823  111.746400  194.733392        1.039            2         2   2.202617   \n",
       "23824  115.308019  260.589153        4.079            2         2  23.756617   \n",
       "\n",
       "         HOMA_BETA  DiabetesType  \n",
       "0       231.517241          None  \n",
       "1        66.505263          None  \n",
       "2        78.872727          None  \n",
       "3       163.492683          None  \n",
       "4              NaN          None  \n",
       "...            ...           ...  \n",
       "23820          NaN   PreDiabetes  \n",
       "23821    16.635789           NaN  \n",
       "23822          NaN   PreDiabetes  \n",
       "23823   110.206452          None  \n",
       "23824  1359.385714          None  \n",
       "\n",
       "[23825 rows x 83 columns]"
      ]
     },
     "execution_count": 5,
     "metadata": {},
     "output_type": "execute_result"
    }
   ],
   "source": [
    "data"
   ]
  },
  {
   "cell_type": "code",
   "execution_count": 10,
   "metadata": {},
   "outputs": [
    {
     "data": {
      "text/plain": [
       "DiabetesType\n",
       "None                   18483\n",
       "DiabetesNoInsulin       2238\n",
       "PreDiabetes             1573\n",
       "DiabeteswithInsulin      919\n",
       "Name: count, dtype: int64"
      ]
     },
     "execution_count": 10,
     "metadata": {},
     "output_type": "execute_result"
    }
   ],
   "source": [
    "\n",
    "\n",
    "data[\"DiabetesType\"].value_counts()"
   ]
  },
  {
   "cell_type": "code",
   "execution_count": 13,
   "metadata": {},
   "outputs": [
    {
     "data": {
      "application/vnd.plotly.v1+json": {
       "config": {
        "plotlyServerURL": "https://plot.ly"
       },
       "data": [
        {
         "alignmentgroup": "True",
         "hovertemplate": "DiabetesType=%{x}<br>Count=%{y}<extra></extra>",
         "legendgroup": "None",
         "marker": {
          "color": "#636efa",
          "pattern": {
           "shape": ""
          }
         },
         "name": "None",
         "offsetgroup": "None",
         "orientation": "v",
         "showlegend": true,
         "textposition": "auto",
         "type": "bar",
         "x": [
          "None"
         ],
         "xaxis": "x",
         "y": [
          18483
         ],
         "yaxis": "y"
        },
        {
         "alignmentgroup": "True",
         "hovertemplate": "DiabetesType=%{x}<br>Count=%{y}<extra></extra>",
         "legendgroup": "DiabetesNoInsulin",
         "marker": {
          "color": "#EF553B",
          "pattern": {
           "shape": ""
          }
         },
         "name": "DiabetesNoInsulin",
         "offsetgroup": "DiabetesNoInsulin",
         "orientation": "v",
         "showlegend": true,
         "textposition": "auto",
         "type": "bar",
         "x": [
          "DiabetesNoInsulin"
         ],
         "xaxis": "x",
         "y": [
          2238
         ],
         "yaxis": "y"
        },
        {
         "alignmentgroup": "True",
         "hovertemplate": "DiabetesType=%{x}<br>Count=%{y}<extra></extra>",
         "legendgroup": "PreDiabetes",
         "marker": {
          "color": "#00cc96",
          "pattern": {
           "shape": ""
          }
         },
         "name": "PreDiabetes",
         "offsetgroup": "PreDiabetes",
         "orientation": "v",
         "showlegend": true,
         "textposition": "auto",
         "type": "bar",
         "x": [
          "PreDiabetes"
         ],
         "xaxis": "x",
         "y": [
          1573
         ],
         "yaxis": "y"
        },
        {
         "alignmentgroup": "True",
         "hovertemplate": "DiabetesType=%{x}<br>Count=%{y}<extra></extra>",
         "legendgroup": "DiabeteswithInsulin",
         "marker": {
          "color": "#ab63fa",
          "pattern": {
           "shape": ""
          }
         },
         "name": "DiabeteswithInsulin",
         "offsetgroup": "DiabeteswithInsulin",
         "orientation": "v",
         "showlegend": true,
         "textposition": "auto",
         "type": "bar",
         "x": [
          "DiabeteswithInsulin"
         ],
         "xaxis": "x",
         "y": [
          919
         ],
         "yaxis": "y"
        }
       ],
       "layout": {
        "barmode": "relative",
        "legend": {
         "title": {
          "text": "Disease Type"
         },
         "tracegroupgap": 0
        },
        "template": {
         "data": {
          "bar": [
           {
            "error_x": {
             "color": "#2a3f5f"
            },
            "error_y": {
             "color": "#2a3f5f"
            },
            "marker": {
             "line": {
              "color": "#E5ECF6",
              "width": 0.5
             },
             "pattern": {
              "fillmode": "overlay",
              "size": 10,
              "solidity": 0.2
             }
            },
            "type": "bar"
           }
          ],
          "barpolar": [
           {
            "marker": {
             "line": {
              "color": "#E5ECF6",
              "width": 0.5
             },
             "pattern": {
              "fillmode": "overlay",
              "size": 10,
              "solidity": 0.2
             }
            },
            "type": "barpolar"
           }
          ],
          "carpet": [
           {
            "aaxis": {
             "endlinecolor": "#2a3f5f",
             "gridcolor": "white",
             "linecolor": "white",
             "minorgridcolor": "white",
             "startlinecolor": "#2a3f5f"
            },
            "baxis": {
             "endlinecolor": "#2a3f5f",
             "gridcolor": "white",
             "linecolor": "white",
             "minorgridcolor": "white",
             "startlinecolor": "#2a3f5f"
            },
            "type": "carpet"
           }
          ],
          "choropleth": [
           {
            "colorbar": {
             "outlinewidth": 0,
             "ticks": ""
            },
            "type": "choropleth"
           }
          ],
          "contour": [
           {
            "colorbar": {
             "outlinewidth": 0,
             "ticks": ""
            },
            "colorscale": [
             [
              0,
              "#0d0887"
             ],
             [
              0.1111111111111111,
              "#46039f"
             ],
             [
              0.2222222222222222,
              "#7201a8"
             ],
             [
              0.3333333333333333,
              "#9c179e"
             ],
             [
              0.4444444444444444,
              "#bd3786"
             ],
             [
              0.5555555555555556,
              "#d8576b"
             ],
             [
              0.6666666666666666,
              "#ed7953"
             ],
             [
              0.7777777777777778,
              "#fb9f3a"
             ],
             [
              0.8888888888888888,
              "#fdca26"
             ],
             [
              1,
              "#f0f921"
             ]
            ],
            "type": "contour"
           }
          ],
          "contourcarpet": [
           {
            "colorbar": {
             "outlinewidth": 0,
             "ticks": ""
            },
            "type": "contourcarpet"
           }
          ],
          "heatmap": [
           {
            "colorbar": {
             "outlinewidth": 0,
             "ticks": ""
            },
            "colorscale": [
             [
              0,
              "#0d0887"
             ],
             [
              0.1111111111111111,
              "#46039f"
             ],
             [
              0.2222222222222222,
              "#7201a8"
             ],
             [
              0.3333333333333333,
              "#9c179e"
             ],
             [
              0.4444444444444444,
              "#bd3786"
             ],
             [
              0.5555555555555556,
              "#d8576b"
             ],
             [
              0.6666666666666666,
              "#ed7953"
             ],
             [
              0.7777777777777778,
              "#fb9f3a"
             ],
             [
              0.8888888888888888,
              "#fdca26"
             ],
             [
              1,
              "#f0f921"
             ]
            ],
            "type": "heatmap"
           }
          ],
          "heatmapgl": [
           {
            "colorbar": {
             "outlinewidth": 0,
             "ticks": ""
            },
            "colorscale": [
             [
              0,
              "#0d0887"
             ],
             [
              0.1111111111111111,
              "#46039f"
             ],
             [
              0.2222222222222222,
              "#7201a8"
             ],
             [
              0.3333333333333333,
              "#9c179e"
             ],
             [
              0.4444444444444444,
              "#bd3786"
             ],
             [
              0.5555555555555556,
              "#d8576b"
             ],
             [
              0.6666666666666666,
              "#ed7953"
             ],
             [
              0.7777777777777778,
              "#fb9f3a"
             ],
             [
              0.8888888888888888,
              "#fdca26"
             ],
             [
              1,
              "#f0f921"
             ]
            ],
            "type": "heatmapgl"
           }
          ],
          "histogram": [
           {
            "marker": {
             "pattern": {
              "fillmode": "overlay",
              "size": 10,
              "solidity": 0.2
             }
            },
            "type": "histogram"
           }
          ],
          "histogram2d": [
           {
            "colorbar": {
             "outlinewidth": 0,
             "ticks": ""
            },
            "colorscale": [
             [
              0,
              "#0d0887"
             ],
             [
              0.1111111111111111,
              "#46039f"
             ],
             [
              0.2222222222222222,
              "#7201a8"
             ],
             [
              0.3333333333333333,
              "#9c179e"
             ],
             [
              0.4444444444444444,
              "#bd3786"
             ],
             [
              0.5555555555555556,
              "#d8576b"
             ],
             [
              0.6666666666666666,
              "#ed7953"
             ],
             [
              0.7777777777777778,
              "#fb9f3a"
             ],
             [
              0.8888888888888888,
              "#fdca26"
             ],
             [
              1,
              "#f0f921"
             ]
            ],
            "type": "histogram2d"
           }
          ],
          "histogram2dcontour": [
           {
            "colorbar": {
             "outlinewidth": 0,
             "ticks": ""
            },
            "colorscale": [
             [
              0,
              "#0d0887"
             ],
             [
              0.1111111111111111,
              "#46039f"
             ],
             [
              0.2222222222222222,
              "#7201a8"
             ],
             [
              0.3333333333333333,
              "#9c179e"
             ],
             [
              0.4444444444444444,
              "#bd3786"
             ],
             [
              0.5555555555555556,
              "#d8576b"
             ],
             [
              0.6666666666666666,
              "#ed7953"
             ],
             [
              0.7777777777777778,
              "#fb9f3a"
             ],
             [
              0.8888888888888888,
              "#fdca26"
             ],
             [
              1,
              "#f0f921"
             ]
            ],
            "type": "histogram2dcontour"
           }
          ],
          "mesh3d": [
           {
            "colorbar": {
             "outlinewidth": 0,
             "ticks": ""
            },
            "type": "mesh3d"
           }
          ],
          "parcoords": [
           {
            "line": {
             "colorbar": {
              "outlinewidth": 0,
              "ticks": ""
             }
            },
            "type": "parcoords"
           }
          ],
          "pie": [
           {
            "automargin": true,
            "type": "pie"
           }
          ],
          "scatter": [
           {
            "fillpattern": {
             "fillmode": "overlay",
             "size": 10,
             "solidity": 0.2
            },
            "type": "scatter"
           }
          ],
          "scatter3d": [
           {
            "line": {
             "colorbar": {
              "outlinewidth": 0,
              "ticks": ""
             }
            },
            "marker": {
             "colorbar": {
              "outlinewidth": 0,
              "ticks": ""
             }
            },
            "type": "scatter3d"
           }
          ],
          "scattercarpet": [
           {
            "marker": {
             "colorbar": {
              "outlinewidth": 0,
              "ticks": ""
             }
            },
            "type": "scattercarpet"
           }
          ],
          "scattergeo": [
           {
            "marker": {
             "colorbar": {
              "outlinewidth": 0,
              "ticks": ""
             }
            },
            "type": "scattergeo"
           }
          ],
          "scattergl": [
           {
            "marker": {
             "colorbar": {
              "outlinewidth": 0,
              "ticks": ""
             }
            },
            "type": "scattergl"
           }
          ],
          "scattermapbox": [
           {
            "marker": {
             "colorbar": {
              "outlinewidth": 0,
              "ticks": ""
             }
            },
            "type": "scattermapbox"
           }
          ],
          "scatterpolar": [
           {
            "marker": {
             "colorbar": {
              "outlinewidth": 0,
              "ticks": ""
             }
            },
            "type": "scatterpolar"
           }
          ],
          "scatterpolargl": [
           {
            "marker": {
             "colorbar": {
              "outlinewidth": 0,
              "ticks": ""
             }
            },
            "type": "scatterpolargl"
           }
          ],
          "scatterternary": [
           {
            "marker": {
             "colorbar": {
              "outlinewidth": 0,
              "ticks": ""
             }
            },
            "type": "scatterternary"
           }
          ],
          "surface": [
           {
            "colorbar": {
             "outlinewidth": 0,
             "ticks": ""
            },
            "colorscale": [
             [
              0,
              "#0d0887"
             ],
             [
              0.1111111111111111,
              "#46039f"
             ],
             [
              0.2222222222222222,
              "#7201a8"
             ],
             [
              0.3333333333333333,
              "#9c179e"
             ],
             [
              0.4444444444444444,
              "#bd3786"
             ],
             [
              0.5555555555555556,
              "#d8576b"
             ],
             [
              0.6666666666666666,
              "#ed7953"
             ],
             [
              0.7777777777777778,
              "#fb9f3a"
             ],
             [
              0.8888888888888888,
              "#fdca26"
             ],
             [
              1,
              "#f0f921"
             ]
            ],
            "type": "surface"
           }
          ],
          "table": [
           {
            "cells": {
             "fill": {
              "color": "#EBF0F8"
             },
             "line": {
              "color": "white"
             }
            },
            "header": {
             "fill": {
              "color": "#C8D4E3"
             },
             "line": {
              "color": "white"
             }
            },
            "type": "table"
           }
          ]
         },
         "layout": {
          "annotationdefaults": {
           "arrowcolor": "#2a3f5f",
           "arrowhead": 0,
           "arrowwidth": 1
          },
          "autotypenumbers": "strict",
          "coloraxis": {
           "colorbar": {
            "outlinewidth": 0,
            "ticks": ""
           }
          },
          "colorscale": {
           "diverging": [
            [
             0,
             "#8e0152"
            ],
            [
             0.1,
             "#c51b7d"
            ],
            [
             0.2,
             "#de77ae"
            ],
            [
             0.3,
             "#f1b6da"
            ],
            [
             0.4,
             "#fde0ef"
            ],
            [
             0.5,
             "#f7f7f7"
            ],
            [
             0.6,
             "#e6f5d0"
            ],
            [
             0.7,
             "#b8e186"
            ],
            [
             0.8,
             "#7fbc41"
            ],
            [
             0.9,
             "#4d9221"
            ],
            [
             1,
             "#276419"
            ]
           ],
           "sequential": [
            [
             0,
             "#0d0887"
            ],
            [
             0.1111111111111111,
             "#46039f"
            ],
            [
             0.2222222222222222,
             "#7201a8"
            ],
            [
             0.3333333333333333,
             "#9c179e"
            ],
            [
             0.4444444444444444,
             "#bd3786"
            ],
            [
             0.5555555555555556,
             "#d8576b"
            ],
            [
             0.6666666666666666,
             "#ed7953"
            ],
            [
             0.7777777777777778,
             "#fb9f3a"
            ],
            [
             0.8888888888888888,
             "#fdca26"
            ],
            [
             1,
             "#f0f921"
            ]
           ],
           "sequentialminus": [
            [
             0,
             "#0d0887"
            ],
            [
             0.1111111111111111,
             "#46039f"
            ],
            [
             0.2222222222222222,
             "#7201a8"
            ],
            [
             0.3333333333333333,
             "#9c179e"
            ],
            [
             0.4444444444444444,
             "#bd3786"
            ],
            [
             0.5555555555555556,
             "#d8576b"
            ],
            [
             0.6666666666666666,
             "#ed7953"
            ],
            [
             0.7777777777777778,
             "#fb9f3a"
            ],
            [
             0.8888888888888888,
             "#fdca26"
            ],
            [
             1,
             "#f0f921"
            ]
           ]
          },
          "colorway": [
           "#636efa",
           "#EF553B",
           "#00cc96",
           "#ab63fa",
           "#FFA15A",
           "#19d3f3",
           "#FF6692",
           "#B6E880",
           "#FF97FF",
           "#FECB52"
          ],
          "font": {
           "color": "#2a3f5f"
          },
          "geo": {
           "bgcolor": "white",
           "lakecolor": "white",
           "landcolor": "#E5ECF6",
           "showlakes": true,
           "showland": true,
           "subunitcolor": "white"
          },
          "hoverlabel": {
           "align": "left"
          },
          "hovermode": "closest",
          "mapbox": {
           "style": "light"
          },
          "paper_bgcolor": "white",
          "plot_bgcolor": "#E5ECF6",
          "polar": {
           "angularaxis": {
            "gridcolor": "white",
            "linecolor": "white",
            "ticks": ""
           },
           "bgcolor": "#E5ECF6",
           "radialaxis": {
            "gridcolor": "white",
            "linecolor": "white",
            "ticks": ""
           }
          },
          "scene": {
           "xaxis": {
            "backgroundcolor": "#E5ECF6",
            "gridcolor": "white",
            "gridwidth": 2,
            "linecolor": "white",
            "showbackground": true,
            "ticks": "",
            "zerolinecolor": "white"
           },
           "yaxis": {
            "backgroundcolor": "#E5ECF6",
            "gridcolor": "white",
            "gridwidth": 2,
            "linecolor": "white",
            "showbackground": true,
            "ticks": "",
            "zerolinecolor": "white"
           },
           "zaxis": {
            "backgroundcolor": "#E5ECF6",
            "gridcolor": "white",
            "gridwidth": 2,
            "linecolor": "white",
            "showbackground": true,
            "ticks": "",
            "zerolinecolor": "white"
           }
          },
          "shapedefaults": {
           "line": {
            "color": "#2a3f5f"
           }
          },
          "ternary": {
           "aaxis": {
            "gridcolor": "white",
            "linecolor": "white",
            "ticks": ""
           },
           "baxis": {
            "gridcolor": "white",
            "linecolor": "white",
            "ticks": ""
           },
           "bgcolor": "#E5ECF6",
           "caxis": {
            "gridcolor": "white",
            "linecolor": "white",
            "ticks": ""
           }
          },
          "title": {
           "x": 0.05
          },
          "xaxis": {
           "automargin": true,
           "gridcolor": "white",
           "linecolor": "white",
           "ticks": "",
           "title": {
            "standoff": 15
           },
           "zerolinecolor": "white",
           "zerolinewidth": 2
          },
          "yaxis": {
           "automargin": true,
           "gridcolor": "white",
           "linecolor": "white",
           "ticks": "",
           "title": {
            "standoff": 15
           },
           "zerolinecolor": "white",
           "zerolinewidth": 2
          }
         }
        },
        "title": {
         "text": "Diabetes Types Distribution"
        },
        "xaxis": {
         "anchor": "y",
         "categoryarray": [
          "None",
          "DiabetesNoInsulin",
          "PreDiabetes",
          "DiabeteswithInsulin"
         ],
         "categoryorder": "array",
         "domain": [
          0,
          1
         ],
         "title": {
          "text": "DiabetesType"
         }
        },
        "yaxis": {
         "anchor": "x",
         "domain": [
          0,
          1
         ],
         "title": {
          "text": "Count"
         }
        }
       }
      }
     },
     "metadata": {},
     "output_type": "display_data"
    }
   ],
   "source": [
    "\n",
    "import plotly.express as px\n",
    "\n",
    "# Group by DiseaseType and count occurrences\n",
    "type_counts = data['DiabetesType'].value_counts()\n",
    "\n",
    "# Create a bar chart using Plotly Express\n",
    "fig = px.bar(type_counts, x=type_counts.index, y=type_counts.values,\n",
    "             labels={'x': 'Disease Type', 'y': 'Count'},\n",
    "             color=type_counts.index, # Color by DiseaseType\n",
    "             title='Diabetes Types Distribution')\n",
    "\n",
    "# Add legends\n",
    "fig.update_layout(legend_title_text='Disease Type')\n",
    "\n",
    "# Show the plot\n",
    "fig.show()"
   ]
  }
 ],
 "metadata": {
  "kernelspec": {
   "display_name": "base",
   "language": "python",
   "name": "python3"
  },
  "language_info": {
   "codemirror_mode": {
    "name": "ipython",
    "version": 3
   },
   "file_extension": ".py",
   "mimetype": "text/x-python",
   "name": "python",
   "nbconvert_exporter": "python",
   "pygments_lexer": "ipython3",
   "version": "3.10.11"
  },
  "orig_nbformat": 4
 },
 "nbformat": 4,
 "nbformat_minor": 2
}
